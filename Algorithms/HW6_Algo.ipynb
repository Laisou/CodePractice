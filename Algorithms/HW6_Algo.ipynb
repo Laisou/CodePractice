{
 "cells": [
  {
   "cell_type": "markdown",
   "id": "1d5cdf63",
   "metadata": {},
   "source": [
    "數字及英文字母辨識系統實作\n",
    "(圖片不能用網路上的)\n",
    "1. 輸入一個手寫或印刷數字之圖片，輸出其對應之數字。\n",
    "2. 輸入一個手寫或印刷符號(數字或字母)之圖片，輸出其對應之數字或字母。\n",
    "3. 評分以作業深度、完整性及個人貢獻為主。\n",
    "\n",
    "作業包含: 原始程式及執行範例(至少20個範例)\n",
    "\n",
    "及格標準為至少作出第一項功能"
   ]
  },
  {
   "cell_type": "code",
   "execution_count": null,
   "id": "afc4521c",
   "metadata": {},
   "outputs": [],
   "source": []
  },
  {
   "cell_type": "code",
   "execution_count": null,
   "id": "21b54d3b",
   "metadata": {},
   "outputs": [],
   "source": []
  }
 ],
 "metadata": {
  "kernelspec": {
   "display_name": "Python 3 (ipykernel)",
   "language": "python",
   "name": "python3"
  },
  "language_info": {
   "codemirror_mode": {
    "name": "ipython",
    "version": 3
   },
   "file_extension": ".py",
   "mimetype": "text/x-python",
   "name": "python",
   "nbconvert_exporter": "python",
   "pygments_lexer": "ipython3",
   "version": "3.11.5"
  }
 },
 "nbformat": 4,
 "nbformat_minor": 5
}
