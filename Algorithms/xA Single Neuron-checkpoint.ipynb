{
 "cells": [
  {
   "cell_type": "markdown",
   "id": "361e4e4e",
   "metadata": {},
   "source": [
    "code come from kaggle\n",
    "\n",
    "https://www.kaggle.com/code/laihaochan/exercise-a-single-neuron/edit"
   ]
  },
  {
   "cell_type": "code",
   "execution_count": null,
   "id": "fa422f61",
   "metadata": {},
   "outputs": [
    {
     "data": {
      "text/html": [
       "<script>Jupyter.notebook.kernel.restart()</script>"
      ]
     },
     "metadata": {},
     "output_type": "display_data"
    }
   ],
   "source": [
    "#come from chat GPT\n",
    "# Restart the kernel\n",
    "from IPython.display import display_html\n",
    "display_html(\"<script>Jupyter.notebook.kernel.restart()</script>\", raw=True)\n"
   ]
  },
  {
   "cell_type": "markdown",
   "id": "39da1a10",
   "metadata": {},
   "source": [
    "In the tutorial we learned about the building blocks of neural networks: linear units. We saw that a model of just one linear unit will fit a linear function to a dataset (equivalent to linear regression). In this exercise, you'll build a linear model and get some practice working with models in Keras.\n",
    "\n",
    "Before you get started, run the code cell below to set everything up."
   ]
  },
  {
   "cell_type": "code",
   "execution_count": null,
   "id": "5bf02d68",
   "metadata": {},
   "outputs": [],
   "source": [
    "# Setup plotting\n",
    "import matplotlib.pyplot as plt\n",
    "\n",
    "#plt.style.use('seaborn-whitegrid')\n",
    "import seaborn as sns\n",
    "\n",
    "# Use seaborn API for styling\n",
    "sns.set(style='whitegrid', font_scale=1.5)\n",
    "\n",
    "# Set Matplotlib defaults\n",
    "plt.rc('figure', autolayout=True)\n",
    "plt.rc('axes', labelweight='bold', labelsize='large',\n",
    "       titleweight='bold', titlesize=18, titlepad=10)\n",
    "\n",
    "# Setup feedback system\n",
    "from learntools.core import binder\n",
    "binder.bind(globals())\n",
    "from learntools.deep_learning_intro.ex1 import *"
   ]
  },
  {
   "cell_type": "code",
   "execution_count": null,
   "id": "03fff305",
   "metadata": {},
   "outputs": [],
   "source": [
    "#First, run the next cell to display the first few rows of this dataset.\n",
    "import pandas as pd\n",
    "\n",
    "red_wine = pd.read_csv('../input/dl-course-data/red-wine.csv')\n",
    "red_wine.head()"
   ]
  },
  {
   "cell_type": "raw",
   "id": "69a8f57e",
   "metadata": {},
   "source": [
    "\tfixed acidity\tvolatile acidity\tcitric acid\tresidual sugar\tchlorides\tfree sulfur dioxide\ttotal sulfur dioxide\tdensity\tpH\tsulphates\talcohol\tquality\n",
    "0\t7.4\t0.70\t0.00\t1.9\t0.076\t11.0\t34.0\t0.9978\t3.51\t0.56\t9.4\t5\n",
    "1\t7.8\t0.88\t0.00\t2.6\t0.098\t25.0\t67.0\t0.9968\t3.20\t0.68\t9.8\t5\n",
    "2\t7.8\t0.76\t0.04\t2.3\t0.092\t15.0\t54.0\t0.9970\t3.26\t0.65\t9.8\t5\n",
    "3\t11.2\t0.28\t0.56\t1.9\t0.075\t17.0\t60.0\t0.9980\t3.16\t0.58\t9.8\t6\n",
    "4\t7.4\t0.70\t0.00\t1.9\t0.076\t11.0\t34.0\t0.9978\t3.51\t0.56\t9.4\t5"
   ]
  },
  {
   "cell_type": "code",
   "execution_count": null,
   "id": "4f2425cc",
   "metadata": {},
   "outputs": [],
   "source": [
    "red_wine.shape # (rows, columns)"
   ]
  },
  {
   "cell_type": "raw",
   "id": "38cf11a1",
   "metadata": {},
   "source": [
    "(1599, 12)"
   ]
  },
  {
   "cell_type": "markdown",
   "id": "e498bb76",
   "metadata": {},
   "source": [
    "### Input shape\n",
    "\n",
    "How well can we predict a wine's perceived quality from the physiochemical measurements?\n",
    "\n",
    "The target is 'quality', and the remaining columns are the features. How would you set the input_shape parameter for a Keras model on this task?"
   ]
  },
  {
   "cell_type": "code",
   "execution_count": null,
   "id": "104a64da",
   "metadata": {},
   "outputs": [],
   "source": [
    "# YOUR CODE HERE\n",
    "input_shape = [11]\n",
    "\n",
    "# Check your answer\n",
    "q_1.check()"
   ]
  },
  {
   "cell_type": "raw",
   "id": "cdaed561",
   "metadata": {},
   "source": [
    "Correct"
   ]
  },
  {
   "cell_type": "code",
   "execution_count": null,
   "id": "d3ff5c1f",
   "metadata": {},
   "outputs": [],
   "source": [
    "# Lines below will give you a hint or solution code\n",
    "q_1.hint()\n",
    "q_1.solution()"
   ]
  },
  {
   "cell_type": "raw",
   "id": "d2addb1d",
   "metadata": {},
   "source": [
    "Hint: Remember to only count the input features when determining input_shape. You should not count the target (the quality column).\n",
    "\n",
    "Solution:\n",
    "\n",
    "\n",
    "input_shape = [11]\n",
    "# you could also use a 1-tuple, like input_shape = (11,)"
   ]
  },
  {
   "cell_type": "markdown",
   "id": "f9ca9fc2",
   "metadata": {},
   "source": [
    "### Define a linear model\n",
    "\n",
    "Now define a linear model appropriate for this task. Pay attention to how many inputs and outputs the model should have."
   ]
  },
  {
   "cell_type": "code",
   "execution_count": null,
   "id": "652c765f",
   "metadata": {},
   "outputs": [],
   "source": [
    "from tensorflow import keras\n",
    "from tensorflow.keras import layers\n",
    "\n",
    "# YOUR CODE HERE\n",
    "model = keras.Sequential([\n",
    "    layers.Dense(units=1, input_shape=[11])\n",
    "])\n",
    "\n",
    "# Check your answer\n",
    "q_2.check()"
   ]
  },
  {
   "cell_type": "raw",
   "id": "9cb43435",
   "metadata": {},
   "source": [
    "Correct"
   ]
  },
  {
   "cell_type": "code",
   "execution_count": null,
   "id": "fdb5fec5",
   "metadata": {},
   "outputs": [],
   "source": [
    "# Lines below will give you a hint or solution code\n",
    "q_2.hint()\n",
    "q_2.solution()"
   ]
  },
  {
   "cell_type": "raw",
   "id": "ab8ffff6",
   "metadata": {},
   "source": [
    "Hint: Your answer should look something like:\n",
    "\n",
    "model = keras.Sequential([\n",
    "    ____\n",
    "])\n",
    "Solution:\n",
    "\n",
    "\n",
    "from tensorflow import keras\n",
    "from tensorflow.keras import layers\n",
    "\n",
    "model = keras.Sequential([\n",
    "    layers.Dense(units=1, input_shape=[11])\n",
    "])"
   ]
  },
  {
   "cell_type": "markdown",
   "id": "6c7cbe61",
   "metadata": {},
   "source": [
    "### Look at the weights\n",
    "\n",
    "Internally, Keras represents the weights of a neural network with tensors. Tensors are basically TensorFlow's version of a Numpy array with a few differences that make them better suited to deep learning. One of the most important is that tensors are compatible with GPU and TPU) accelerators. TPUs, in fact, are designed specifically for tensor computations.\n",
    "\n",
    "A model's weights are kept in its weights attribute as a list of tensors. Get the weights of the model you defined above. (If you want, you could display the weights with something like: print(\"Weights\\n{}\\n\\nBias\\n{}\".format(w, b)))."
   ]
  },
  {
   "cell_type": "code",
   "execution_count": null,
   "id": "3b82bebd",
   "metadata": {},
   "outputs": [],
   "source": [
    "# YOUR CODE HERE\n",
    "w, b = model.weights\n",
    "\n",
    "# Check your answer\n",
    "q_3.check()\n",
    "\n",
    "print(\"Weights\\n{}\\n\\nBias\\n{}\".format(w, b))"
   ]
  },
  {
   "cell_type": "raw",
   "id": "8d3a863e",
   "metadata": {},
   "source": [
    "Correct: Do you see how there's one weight for each input (and a bias)? Notice though that there doesn't seem to be any pattern to the values the weights have. Before the model is trained, the weights are set to random numbers (and the bias to 0.0). A neural network learns by finding better values for its weights.\n",
    "\n",
    "Weights\n",
    "<tf.Variable 'dense/kernel:0' shape=(11, 1) dtype=float32, numpy=\n",
    "array([[ 0.03780895],\n",
    "       [ 0.47807068],\n",
    "       [-0.40021533],\n",
    "       [-0.5496266 ],\n",
    "       [ 0.36810404],\n",
    "       [-0.0652349 ],\n",
    "       [ 0.4429881 ],\n",
    "       [-0.69004285],\n",
    "       [-0.44349274],\n",
    "       [ 0.23680848],\n",
    "       [ 0.12075305]], dtype=float32)>\n",
    "\n",
    "Bias\n",
    "<tf.Variable 'dense/bias:0' shape=(1,) dtype=float32, numpy=array([0.], dtype=float32)>"
   ]
  },
  {
   "cell_type": "code",
   "execution_count": null,
   "id": "f3300b77",
   "metadata": {},
   "outputs": [],
   "source": [
    "# Lines below will give you a hint or solution code\n",
    "q_3.hint()\n",
    "q_3.solution()"
   ]
  },
  {
   "cell_type": "raw",
   "id": "babea771",
   "metadata": {},
   "source": [
    "Hint: You can get the attribute of an object using the 'dot' notation: like object.attribute.\n",
    "\n",
    "Solution:\n",
    "\n",
    "\n",
    "# Uncomment if you need the model from the previous question:\n",
    "# model = keras.Sequential([\n",
    "#     layers.Dense(units=1, input_shape=[11])\n",
    "# ])\n",
    "\n",
    "w, b = model.weights\n",
    "\n",
    "print(\"Weights\\n{}\\n\\nBias\\n{}\".format(w, b))"
   ]
  },
  {
   "cell_type": "markdown",
   "id": "490fec5c",
   "metadata": {},
   "source": [
    "(By the way, Keras represents weights as tensors, but also uses tensors to represent data. When you set the input_shape argument, you are telling Keras the dimensions of the array it should expect for each example in the training data. Setting input_shape=[3] would create a network accepting vectors of length 3, like [0.2, 0.4, 0.6].)"
   ]
  },
  {
   "cell_type": "markdown",
   "id": "252bc6bd",
   "metadata": {},
   "source": [
    "### Optional: Plot the output of an untrained linear model\n",
    "\n",
    "The kinds of problems we'll work on through Lesson 5 will be regression problems, where the goal is to predict some numeric target. Regression problems are like \"curve-fitting\" problems: we're trying to find a curve that best fits the data. Let's take a look at the \"curve\" produced by a linear model. (You've probably guessed that it's a line!)\n",
    "\n",
    "We mentioned that before training a model's weights are set randomly. Run the cell below a few times to see the different lines produced with a random initialization. (There's no coding for this exercise -- it's just a demonstration.)"
   ]
  },
  {
   "cell_type": "code",
   "execution_count": null,
   "id": "7c98ef59",
   "metadata": {},
   "outputs": [],
   "source": [
    "import tensorflow as tf\n",
    "import matplotlib.pyplot as plt\n",
    "\n",
    "model = keras.Sequential([\n",
    "    layers.Dense(1, input_shape=[1]),\n",
    "])\n",
    "\n",
    "x = tf.linspace(-1.0, 1.0, 100)\n",
    "y = model.predict(x)\n",
    "\n",
    "plt.figure(dpi=100)\n",
    "plt.plot(x, y, 'k')\n",
    "plt.xlim(-1, 1)\n",
    "plt.ylim(-1, 1)\n",
    "plt.xlabel(\"Input: x\")\n",
    "plt.ylabel(\"Target y\")\n",
    "w, b = model.weights # you could also use model.get_weights() here\n",
    "plt.title(\"Weight: {:0.2f}\\nBias: {:0.2f}\".format(w[0][0], b[0]))\n",
    "plt.show()"
   ]
  },
  {
   "cell_type": "raw",
   "id": "00c9b510",
   "metadata": {},
   "source": [
    "4/4 [==============================] - 0s 2ms/step"
   ]
  }
 ],
 "metadata": {
  "kernelspec": {
   "display_name": "Python 3 (ipykernel)",
   "language": "python",
   "name": "python3"
  },
  "language_info": {
   "codemirror_mode": {
    "name": "ipython",
    "version": 3
   },
   "file_extension": ".py",
   "mimetype": "text/x-python",
   "name": "python",
   "nbconvert_exporter": "python",
   "pygments_lexer": "ipython3",
   "version": "3.11.5"
  }
 },
 "nbformat": 4,
 "nbformat_minor": 5
}
