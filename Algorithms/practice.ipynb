{
 "cells": [
  {
   "cell_type": "markdown",
   "metadata": {},
   "source": [
    "1~100相加"
   ]
  },
  {
   "cell_type": "code",
   "execution_count": 1,
   "metadata": {},
   "outputs": [
    {
     "data": {
      "text/plain": [
       "5050"
      ]
     },
     "execution_count": 1,
     "metadata": {},
     "output_type": "execute_result"
    }
   ],
   "source": [
    "sum = 0\n",
    "for i in range(1,101):\n",
    "    sum += i\n",
    "sum"
   ]
  },
  {
   "cell_type": "code",
   "execution_count": 2,
   "metadata": {},
   "outputs": [
    {
     "ename": "TypeError",
     "evalue": "'int' object is not callable",
     "output_type": "error",
     "traceback": [
      "\u001b[1;31m---------------------------------------------------------------------------\u001b[0m",
      "\u001b[1;31mTypeError\u001b[0m                                 Traceback (most recent call last)",
      "\u001b[1;32m<ipython-input-2-a14f9f20b77a>\u001b[0m in \u001b[0;36m<module>\u001b[1;34m\u001b[0m\n\u001b[1;32m----> 1\u001b[1;33m \u001b[0msum\u001b[0m\u001b[1;33m(\u001b[0m\u001b[0mrange\u001b[0m\u001b[1;33m(\u001b[0m\u001b[1;36m1\u001b[0m\u001b[1;33m,\u001b[0m\u001b[1;36m101\u001b[0m\u001b[1;33m)\u001b[0m\u001b[1;33m)\u001b[0m\u001b[1;33m\u001b[0m\u001b[1;33m\u001b[0m\u001b[0m\n\u001b[0m",
      "\u001b[1;31mTypeError\u001b[0m: 'int' object is not callable"
     ]
    }
   ],
   "source": [
    "sum(range(1,101))"
   ]
  },
  {
   "cell_type": "code",
   "execution_count": 3,
   "metadata": {},
   "outputs": [],
   "source": [
    "a = [1, 2, 3]\n",
    "b = [4, 5, 6]"
   ]
  },
  {
   "cell_type": "code",
   "execution_count": 4,
   "metadata": {},
   "outputs": [],
   "source": [
    "c=[[a], [b]]"
   ]
  },
  {
   "cell_type": "code",
   "execution_count": 5,
   "metadata": {},
   "outputs": [
    {
     "data": {
      "text/plain": [
       "[[[1, 2, 3]], [[4, 5, 6]]]"
      ]
     },
     "execution_count": 5,
     "metadata": {},
     "output_type": "execute_result"
    }
   ],
   "source": [
    "c"
   ]
  },
  {
   "cell_type": "code",
   "execution_count": 6,
   "metadata": {},
   "outputs": [],
   "source": [
    "c=[a, b]"
   ]
  },
  {
   "cell_type": "code",
   "execution_count": 7,
   "metadata": {},
   "outputs": [
    {
     "data": {
      "text/plain": [
       "[[1, 2, 3], [4, 5, 6]]"
      ]
     },
     "execution_count": 7,
     "metadata": {},
     "output_type": "execute_result"
    }
   ],
   "source": [
    "c"
   ]
  },
  {
   "cell_type": "code",
   "execution_count": 8,
   "metadata": {},
   "outputs": [
    {
     "ename": "TypeError",
     "evalue": "'int' object is not callable",
     "output_type": "error",
     "traceback": [
      "\u001b[1;31m---------------------------------------------------------------------------\u001b[0m",
      "\u001b[1;31mTypeError\u001b[0m                                 Traceback (most recent call last)",
      "\u001b[1;32m<ipython-input-8-543b29c232ea>\u001b[0m in \u001b[0;36m<module>\u001b[1;34m\u001b[0m\n\u001b[1;32m----> 1\u001b[1;33m \u001b[0msum\u001b[0m\u001b[1;33m(\u001b[0m\u001b[0mx\u001b[0m\u001b[1;33m*\u001b[0m\u001b[0my\u001b[0m \u001b[1;32mfor\u001b[0m \u001b[1;33m(\u001b[0m\u001b[0mx\u001b[0m\u001b[1;33m,\u001b[0m \u001b[0my\u001b[0m\u001b[1;33m)\u001b[0m \u001b[1;32min\u001b[0m \u001b[0mzip\u001b[0m\u001b[1;33m(\u001b[0m\u001b[0ma\u001b[0m\u001b[1;33m,\u001b[0m \u001b[0mb\u001b[0m\u001b[1;33m)\u001b[0m\u001b[1;33m)\u001b[0m\u001b[1;33m\u001b[0m\u001b[1;33m\u001b[0m\u001b[0m\n\u001b[0m",
      "\u001b[1;31mTypeError\u001b[0m: 'int' object is not callable"
     ]
    }
   ],
   "source": [
    "sum(x*y for (x, y) in zip(a, b))"
   ]
  },
  {
   "cell_type": "markdown",
   "metadata": {},
   "source": [
    "#求最大公因數\n",
    "#用輾轉相除法，迭代版\n",
    "#pseudocode\n",
    "int gcd(int a, int b)\n",
    "\n",
    "{                  #不用判斷大小與交換，會自己換\n",
    "\n",
    "    while (b != 0) #處理b為零，或直到b為零\n",
    "    \n",
    "    {\n",
    "    \n",
    "        int remainder = a % b;\n",
    "        \n",
    "        (a, b) = (b, remainder); #相當於遞迴\n",
    "        \n",
    "    }\n",
    "    \n",
    "    return a;\n",
    "    \n",
    "}\n"
   ]
  },
  {
   "cell_type": "code",
   "execution_count": 1,
   "metadata": {},
   "outputs": [],
   "source": [
    "#輾轉相除法，遞迴版\n",
    "# python\n",
    "def gcd(a,b):  \n",
    "    if (b == 0): \n",
    "         return a \n",
    "    return gcd(b, a%b) # 呼叫自己"
   ]
  },
  {
   "cell_type": "code",
   "execution_count": 2,
   "metadata": {},
   "outputs": [
    {
     "name": "stdout",
     "output_type": "stream",
     "text": [
      "3\n"
     ]
    }
   ],
   "source": [
    "print(gcd(12, 9))"
   ]
  },
  {
   "cell_type": "markdown",
   "metadata": {},
   "source": []
  },
  {
   "cell_type": "markdown",
   "metadata": {},
   "source": [
    "找最大和最小\n",
    "共有n個數，\n",
    "先倆倆比大小，於是要比n/2次，被分成比較大的那一組和比較小的那一組。\n",
    "然後兩組內再兩倆比大小，於是比了n/2次。\n",
    "但這次大的組只留大的，小的組只留小的。\n",
    "比完之後大的組和小的組的大小都只剩原來的一半。\n",
    "一直比，直到大的組中只剩最大的，小的組中只剩最小的。\n",
    "如果n取很大又是二的次方數，這樣共要比n/2+n/2(1+1/2+1/4+1/8+…)會逼近1.5n次。"
   ]
  },
  {
   "cell_type": "code",
   "execution_count": 3,
   "metadata": {},
   "outputs": [],
   "source": [
    "def min_and_max(S):  # 把S分成大的組S_max和小的組S_min\n",
    "    S_min = []\n",
    "    S_max = []\n",
    "    for i in range(len(S)//2):\n",
    "        if S[i*2] >= S[i*2+1]:\n",
    "            S_max.append(S[2*i])\n",
    "            S_min.append(S[2*i+1])\n",
    "        else:\n",
    "            S_min.append(S[2*i])\n",
    "            S_max.append(S[2*i+1])\n",
    "    return S_min, S_max\n",
    "\n",
    "def my_min(S): \n",
    "    if len(S) >1:\n",
    "        S_min_min = []\n",
    "        for i in list(range(len(S)//2)):\n",
    "            if S[2*i] >= S[2*i+1]:\n",
    "                S_min_min.append(S[2*i+1])\n",
    "            else:\n",
    "                S_min_min.append(S[2*i])\n",
    "        return my_min(S_min_min)  # recursive\n",
    "    else:\n",
    "        return S\n",
    "\n",
    "def my_max(S): \n",
    "    if len(S) >1:\n",
    "        S_max_max = []\n",
    "        for i in list(range(len(S)//2)):\n",
    "            if S[2*i] >= S[2*i+1]:\n",
    "                S_max_max.append(S[2*i])\n",
    "            else:\n",
    "                S_max_max.append(S[2*i+1])\n",
    "                return my_max(S_max_max)  # recursive\n",
    "    else:\n",
    "        return S"
   ]
  },
  {
   "cell_type": "code",
   "execution_count": 4,
   "metadata": {},
   "outputs": [
    {
     "name": "stdout",
     "output_type": "stream",
     "text": [
      "[10, 30, 50, 70]\n",
      "[10]\n",
      "[20, 40, 60, 80]\n",
      "[40]\n"
     ]
    }
   ],
   "source": [
    "S = [10, 20, 30, 40, 50, 60, 70, 80]\n",
    "S_min, S_max = min_and_max(S)\n",
    "print(S_min)\n",
    "print(my_min(S_min))\n",
    "print(S_max)\n",
    "print(my_max(S_max))"
   ]
  },
  {
   "cell_type": "code",
   "execution_count": 5,
   "metadata": {},
   "outputs": [],
   "source": [
    "#一個 θ(lg n) 演算法，用於計算 x^n 除以 p 時的餘數\n",
    "#假設 n = 2^k\n",
    "def pow_Theta_lg_n(x, k, p): \n",
    "    temp = x\n",
    "    for _ in range(k):\n",
    "        temp = ((temp % p) ** 2) % p\n",
    "    return(temp)"
   ]
  },
  {
   "cell_type": "code",
   "execution_count": 6,
   "metadata": {},
   "outputs": [
    {
     "name": "stdout",
     "output_type": "stream",
     "text": [
      "0\n"
     ]
    }
   ],
   "source": [
    "x = 3234\n",
    "p = 1177\n",
    "k = 1007\n",
    "\n",
    "exam = pow_Theta_lg_n(x, k, p) - pow(x, 2**k, p)\n",
    "print(exam)"
   ]
  },
  {
   "cell_type": "code",
   "execution_count": 7,
   "metadata": {},
   "outputs": [
    {
     "name": "stdout",
     "output_type": "stream",
     "text": [
      "704\n",
      "704\n",
      "0\n"
     ]
    }
   ],
   "source": [
    "x = 3234\n",
    "p = 1177\n",
    "k = 1007\n",
    "\n",
    "exam = pow_Theta_lg_n(x, k, p) - pow(x, 2**k, p)\n",
    "print(pow_Theta_lg_n(x, k, p))\n",
    "print(pow(x, 2**k, p))\n",
    "print(exam)\n"
   ]
  },
  {
   "cell_type": "markdown",
   "metadata": {},
   "source": []
  },
  {
   "cell_type": "markdown",
   "metadata": {},
   "source": []
  },
  {
   "cell_type": "code",
   "execution_count": 8,
   "metadata": {},
   "outputs": [],
   "source": [
    "#Recursive Binary Search\n",
    "#用遞迴的二元搜尋法找出120\n",
    "def RecursiveBinarySearch(S, target):\n",
    "    def location(low, high):  # python style indexing\n",
    "        if low > high:  \n",
    "            return None  # target is not in S\n",
    "        else:\n",
    "            mid = math.floor((low + high) / 2)  \n",
    "            # ceiling works as well\n",
    "            if S[mid] == target:\n",
    "                return mid\n",
    "            else: \n",
    "                if S[mid] > target:  # go to small side\n",
    "                    return location(0, mid - 1)\n",
    "                else: # go to large side\n",
    "                    return location(mid + 1, high)\n",
    "    # Python uses 0 ~ (n-1) for 1-st ~ n-th\n",
    "    return location(0, len(S) - 1)  "
   ]
  },
  {
   "cell_type": "code",
   "execution_count": 9,
   "metadata": {},
   "outputs": [
    {
     "ename": "NameError",
     "evalue": "name 'math' is not defined",
     "output_type": "error",
     "traceback": [
      "\u001b[1;31m---------------------------------------------------------------------------\u001b[0m",
      "\u001b[1;31mNameError\u001b[0m                                 Traceback (most recent call last)",
      "\u001b[1;32m<ipython-input-9-2b924c40efee>\u001b[0m in \u001b[0;36m<module>\u001b[1;34m\u001b[0m\n\u001b[0;32m      1\u001b[0m \u001b[0mS\u001b[0m \u001b[1;33m=\u001b[0m \u001b[1;33m[\u001b[0m\u001b[1;36m12\u001b[0m\u001b[1;33m,\u001b[0m \u001b[1;36m34\u001b[0m\u001b[1;33m,\u001b[0m \u001b[1;36m45\u001b[0m\u001b[1;33m,\u001b[0m \u001b[1;36m57\u001b[0m\u001b[1;33m,\u001b[0m \u001b[1;36m82\u001b[0m\u001b[1;33m,\u001b[0m \u001b[1;36m99\u001b[0m\u001b[1;33m,\u001b[0m \u001b[1;36m120\u001b[0m\u001b[1;33m,\u001b[0m \u001b[1;36m134\u001b[0m\u001b[1;33m]\u001b[0m\u001b[1;33m\u001b[0m\u001b[1;33m\u001b[0m\u001b[0m\n\u001b[1;32m----> 2\u001b[1;33m \u001b[0mprint\u001b[0m\u001b[1;33m(\u001b[0m\u001b[0mRecursiveBinarySearch\u001b[0m\u001b[1;33m(\u001b[0m\u001b[0mS\u001b[0m\u001b[1;33m,\u001b[0m \u001b[1;36m120\u001b[0m\u001b[1;33m)\u001b[0m\u001b[1;33m)\u001b[0m\u001b[1;33m\u001b[0m\u001b[1;33m\u001b[0m\u001b[0m\n\u001b[0m",
      "\u001b[1;32m<ipython-input-8-1efe686e1c13>\u001b[0m in \u001b[0;36mRecursiveBinarySearch\u001b[1;34m(S, target)\u001b[0m\n\u001b[0;32m     16\u001b[0m                     \u001b[1;32mreturn\u001b[0m \u001b[0mlocation\u001b[0m\u001b[1;33m(\u001b[0m\u001b[0mmid\u001b[0m \u001b[1;33m+\u001b[0m \u001b[1;36m1\u001b[0m\u001b[1;33m,\u001b[0m \u001b[0mhigh\u001b[0m\u001b[1;33m)\u001b[0m\u001b[1;33m\u001b[0m\u001b[1;33m\u001b[0m\u001b[0m\n\u001b[0;32m     17\u001b[0m     \u001b[1;31m# Python uses 0 ~ (n-1) for 1-st ~ n-th\u001b[0m\u001b[1;33m\u001b[0m\u001b[1;33m\u001b[0m\u001b[1;33m\u001b[0m\u001b[0m\n\u001b[1;32m---> 18\u001b[1;33m     \u001b[1;32mreturn\u001b[0m \u001b[0mlocation\u001b[0m\u001b[1;33m(\u001b[0m\u001b[1;36m0\u001b[0m\u001b[1;33m,\u001b[0m \u001b[0mlen\u001b[0m\u001b[1;33m(\u001b[0m\u001b[0mS\u001b[0m\u001b[1;33m)\u001b[0m \u001b[1;33m-\u001b[0m \u001b[1;36m1\u001b[0m\u001b[1;33m)\u001b[0m\u001b[1;33m\u001b[0m\u001b[1;33m\u001b[0m\u001b[0m\n\u001b[0m",
      "\u001b[1;32m<ipython-input-8-1efe686e1c13>\u001b[0m in \u001b[0;36mlocation\u001b[1;34m(low, high)\u001b[0m\n\u001b[0;32m      6\u001b[0m             \u001b[1;32mreturn\u001b[0m \u001b[1;32mNone\u001b[0m  \u001b[1;31m# target is not in S\u001b[0m\u001b[1;33m\u001b[0m\u001b[1;33m\u001b[0m\u001b[0m\n\u001b[0;32m      7\u001b[0m         \u001b[1;32melse\u001b[0m\u001b[1;33m:\u001b[0m\u001b[1;33m\u001b[0m\u001b[1;33m\u001b[0m\u001b[0m\n\u001b[1;32m----> 8\u001b[1;33m             \u001b[0mmid\u001b[0m \u001b[1;33m=\u001b[0m \u001b[0mmath\u001b[0m\u001b[1;33m.\u001b[0m\u001b[0mfloor\u001b[0m\u001b[1;33m(\u001b[0m\u001b[1;33m(\u001b[0m\u001b[0mlow\u001b[0m \u001b[1;33m+\u001b[0m \u001b[0mhigh\u001b[0m\u001b[1;33m)\u001b[0m \u001b[1;33m/\u001b[0m \u001b[1;36m2\u001b[0m\u001b[1;33m)\u001b[0m\u001b[1;33m\u001b[0m\u001b[1;33m\u001b[0m\u001b[0m\n\u001b[0m\u001b[0;32m      9\u001b[0m             \u001b[1;31m# ceiling works as well\u001b[0m\u001b[1;33m\u001b[0m\u001b[1;33m\u001b[0m\u001b[1;33m\u001b[0m\u001b[0m\n\u001b[0;32m     10\u001b[0m             \u001b[1;32mif\u001b[0m \u001b[0mS\u001b[0m\u001b[1;33m[\u001b[0m\u001b[0mmid\u001b[0m\u001b[1;33m]\u001b[0m \u001b[1;33m==\u001b[0m \u001b[0mtarget\u001b[0m\u001b[1;33m:\u001b[0m\u001b[1;33m\u001b[0m\u001b[1;33m\u001b[0m\u001b[0m\n",
      "\u001b[1;31mNameError\u001b[0m: name 'math' is not defined"
     ]
    }
   ],
   "source": [
    "S = [12, 34, 45, 57, 82, 99, 120, 134]\n",
    "print(RecursiveBinarySearch(S, 120))"
   ]
  },
  {
   "cell_type": "code",
   "execution_count": 11,
   "metadata": {},
   "outputs": [],
   "source": [
    "# Python 3 program for recursive binary search.\n",
    "# Modifications needed for the older Python 2 are found in comments.\n",
    "\n",
    "# Returns index of x in arr if present, else -1\n",
    "def binary_search(arr, low, high, x):\n",
    "\n",
    "    # Check base case\n",
    "    if high >= low:\n",
    "\n",
    "        mid = (high + low) // 2\n",
    "\n",
    "        # If element is present at the middle itself\n",
    "        if arr[mid] == x:\n",
    "            return mid\n",
    "\n",
    "        # If element is smaller than mid, then it can only\n",
    "        # be present in left subarray\n",
    "        elif arr[mid] > x:\n",
    "            return binary_search(arr, low, mid - 1, x)\n",
    "\n",
    "        # Else the element can only be present in right subarray\n",
    "        else:\n",
    "            return binary_search(arr, mid + 1, high, x)\n",
    "\n",
    "    else:\n",
    "        # Element is not present in the array\n",
    "        return -1"
   ]
  },
  {
   "cell_type": "code",
   "execution_count": 12,
   "metadata": {},
   "outputs": [
    {
     "name": "stdout",
     "output_type": "stream",
     "text": [
      "Element is present at index 3\n"
     ]
    }
   ],
   "source": [
    "# Test array\n",
    "arr = [ 2, 3, 4, 10, 40 ]\n",
    "x = 10\n",
    "\n",
    "# Function call\n",
    "result = binary_search(arr, 0, len(arr)-1, x)\n",
    "\n",
    "if result != -1:\n",
    "    print(\"Element is present at index\", str(result))\n",
    "else:\n",
    "    print(\"Element is not present in array\")"
   ]
  },
  {
   "cell_type": "code",
   "execution_count": 13,
   "metadata": {},
   "outputs": [],
   "source": [
    "#Use the divide-and-conquer approach to write an algorithm that finds the largest item in a list of n items.\n",
    "#Analyze your algorithm, and show the results in order notation.\n",
    "def mymax(S):\n",
    "\n",
    "    # Conquer the trivial case\n",
    "    if len(S) == 1:\n",
    "        return S[0]\n",
    "    \n",
    "    # Divide the combinational case\n",
    "    else:\n",
    "        SS = []\n",
    "        for i in range(len(S) // 2): # === floor(len(S)/2)\n",
    "            \n",
    "            # Pick up the winners\n",
    "            if S[2 * i] > S[2 * i + 1]:\n",
    "                SS.append(S[2 * i])\n",
    "            else: \n",
    "                SS.append(S[2 * i + 1])\n",
    "        \n",
    "        # Let the lone remainder join the winners \n",
    "        if len(S) % 2:\n",
    "             SS.append(S[-1])\n",
    "\n",
    "        return mymax(SS)"
   ]
  },
  {
   "cell_type": "code",
   "execution_count": 19,
   "metadata": {},
   "outputs": [
    {
     "name": "stdout",
     "output_type": "stream",
     "text": [
      "0\n"
     ]
    }
   ],
   "source": [
    "import random\n",
    "check_sum = 0\n",
    "for _ in range(70):\n",
    "    S_len = random.randint(0, 100)\n",
    "    S = [random.randint(0, 10000) for _ in range(S_len)]\n",
    "    if mymax(S) != max(S):\n",
    "         check_sum += 1\n",
    "         print(\"Fail!\")\n",
    "print(check_sum)"
   ]
  },
  {
   "cell_type": "code",
   "execution_count": 20,
   "metadata": {},
   "outputs": [],
   "source": [
    "#Use Mergesort (Algorithms 2.2 and 2.4) to sort the following list.\n",
    "#Show the actions step by step.\n",
    "#We will use the style of Algorithm 2.4, which saves the extra usage of memory.\n",
    "#Beware of the pass-by-reference nature of Python.\n",
    "#We shall use U = S[:] instead of U = S.\n",
    "def merge2(low, mid, high):\n",
    "    i = low      # for the left/small\n",
    "    j = mid + 1  # for the right/large   \n",
    "    k = low      # the index for U[] \n",
    "    U = S[:]     # the temp list to hold the merged result\n",
    "                 # Beware of the pass-by-reference nature of Python\n",
    "    while i <= mid and j <= high:\n",
    "        if S[i] < S[j]:\n",
    "            U[k] = S[i]\n",
    "            i += 1\n",
    "        else:\n",
    "            U[k] = S[j]\n",
    "            j += 1\n",
    "        k += 1\n",
    "    \n",
    "    # If one of the U[] or K[] is used up, we don't compare anymore. \n",
    "    # Merge the residual to the sorted part directly\n",
    "    \n",
    "    if i > mid:                    # the left part is used up\n",
    "        U[k:high+1] = S[j:high+1]  # Connect the right part onto the tail of U[]\n",
    "    else:                          # the right part is used up\n",
    "        U[k:high+1] = S[i:mid+1]   # Connect the left part onto the tail of U[]\n",
    "        \n",
    "    S[low:high+1] = U[low:high+1]  # overwirte the yet-merged S[] with the merged U[]"
   ]
  },
  {
   "cell_type": "code",
   "execution_count": 21,
   "metadata": {},
   "outputs": [],
   "source": [
    "def mergesort2(low, high):\n",
    "    if high > low:\n",
    "        mid  = (low + high) // 2   # ===floor( (low + high) // 2 )\n",
    "        mergesort2(low, mid)\n",
    "        mergesort2(mid + 1, high)\n",
    "        merge2(low, mid, high)"
   ]
  },
  {
   "cell_type": "code",
   "execution_count": 22,
   "metadata": {},
   "outputs": [],
   "source": [
    "global S\n",
    "S = [123, 34, 189, 56, 150, 12, 9, 240]\n",
    "mergesort2(0,len(S)-1)"
   ]
  },
  {
   "cell_type": "code",
   "execution_count": 24,
   "metadata": {},
   "outputs": [
    {
     "name": "stdout",
     "output_type": "stream",
     "text": [
      "None\n"
     ]
    }
   ],
   "source": [
    "global S\n",
    "S = [123, 34, 189, 56, 150, 12, 9, 240]\n",
    "mergesort2(0,len(S)-1)\n",
    "print(mergesort2(0,len(S)-1))"
   ]
  },
  {
   "cell_type": "code",
   "execution_count": 25,
   "metadata": {},
   "outputs": [],
   "source": [
    "# Python program for implementation of MergeSort\n",
    "\n",
    "# Merges two subarrays of arr[].\n",
    "# First subarray is arr[l..m]\n",
    "# Second subarray is arr[m+1..r]\n",
    "\n",
    "\n",
    "def merge(arr, l, m, r):\n",
    "\tn1 = m - l + 1\n",
    "\tn2 = r - m\n",
    "\n",
    "\t# create temp arrays\n",
    "\tL = [0] * (n1)\n",
    "\tR = [0] * (n2)\n",
    "\n",
    "\t# Copy data to temp arrays L[] and R[]\n",
    "\tfor i in range(0, n1):\n",
    "\t\tL[i] = arr[l + i]\n",
    "\n",
    "\tfor j in range(0, n2):\n",
    "\t\tR[j] = arr[m + 1 + j]\n",
    "\n",
    "\t# Merge the temp arrays back into arr[l..r]\n",
    "\ti = 0\t # Initial index of first subarray\n",
    "\tj = 0\t # Initial index of second subarray\n",
    "\tk = l\t # Initial index of merged subarray\n",
    "\n",
    "\twhile i < n1 and j < n2:\n",
    "\t\tif L[i] <= R[j]:\n",
    "\t\t\tarr[k] = L[i]\n",
    "\t\t\ti += 1\n",
    "\t\telse:\n",
    "\t\t\tarr[k] = R[j]\n",
    "\t\t\tj += 1\n",
    "\t\tk += 1\n",
    "\n",
    "\t# Copy the remaining elements of L[], if there\n",
    "\t# are any\n",
    "\twhile i < n1:\n",
    "\t\tarr[k] = L[i]\n",
    "\t\ti += 1\n",
    "\t\tk += 1\n",
    "\n",
    "\t# Copy the remaining elements of R[], if there\n",
    "\t# are any\n",
    "\twhile j < n2:\n",
    "\t\tarr[k] = R[j]\n",
    "\t\tj += 1\n",
    "\t\tk += 1\n",
    "\n",
    "# l is for left index and r is right index of the\n",
    "# sub-array of arr to be sorted\n",
    "\n",
    "\n",
    "def mergeSort(arr, l, r):\n",
    "\tif l < r:\n",
    "\n",
    "\t\t# Same as (l+r)//2, but avoids overflow for\n",
    "\t\t# large l and h\n",
    "\t\tm = l+(r-l)//2\n",
    "\n",
    "\t\t# Sort first and second halves\n",
    "\t\tmergeSort(arr, l, m)\n",
    "\t\tmergeSort(arr, m+1, r)\n",
    "\t\tmerge(arr, l, m, r)"
   ]
  },
  {
   "cell_type": "code",
   "execution_count": 26,
   "metadata": {},
   "outputs": [
    {
     "name": "stdout",
     "output_type": "stream",
     "text": [
      "Given array is\n",
      "12 11 13 5 6 7 \n",
      "\n",
      "Sorted array is\n",
      "5 6 7 11 12 13 "
     ]
    }
   ],
   "source": [
    "# Driver code to test above\n",
    "arr = [12, 11, 13, 5, 6, 7]\n",
    "n = len(arr)\n",
    "print(\"Given array is\")\n",
    "for i in range(n):\n",
    "\tprint(\"%d\" % arr[i],end=\" \")\n",
    "\n",
    "mergeSort(arr, 0, n-1)\n",
    "print(\"\\n\\nSorted array is\")\n",
    "for i in range(n):\n",
    "\tprint(\"%d\" % arr[i],end=\" \")\n",
    "\n",
    "# This code is contributed by Mohit Kumra\n"
   ]
  },
  {
   "cell_type": "code",
   "execution_count": 27,
   "metadata": {
    "scrolled": false
   },
   "outputs": [
    {
     "name": "stdout",
     "output_type": "stream",
     "text": [
      "Input\n",
      "[123, 34, 189, 56, 150, 12, 9, 240]\n",
      "mergesort2\n",
      "          low = 0 ; high = 7\n",
      "                             mid = 3\n",
      "mergesort2\n",
      "          low = 0 ; high = 3\n",
      "                             mid = 1\n",
      "mergesort2\n",
      "          low = 0 ; high = 1\n",
      "                             mid = 0\n",
      "mergesort2\n",
      "          low = 0 ; high = 0\n",
      "                             X\n",
      "mergesort2\n",
      "          low = 1 ; high = 1\n",
      "                             X\n",
      "merge2\n",
      "       low = 0 ; mid = 0 ; high = 1\n",
      "         i = 0 ;   j = 1 ;    k = 0\n",
      "                                           hard-copy  U = S[:]\n",
      "    U = [123, 34, 189, 56, 150, 12, 9, 240]\n",
      "    S = [123, 34, 189, 56, 150, 12, 9, 240]\n",
      "                                           S[ i ] >= S[ j ]\n",
      "                                           S[ 0 ] >= S[ 1 ]\n",
      "                                              123 >= 34\n",
      "                                           U[ k ] is replaced by S[ j ]\n",
      "                                           U[ 0 ] is replaced by S[ 1 ]\n",
      "    U = [34, 34, 189, 56, 150, 12, 9, 240]\n",
      "    S = [123, 34, 189, 56, 150, 12, 9, 240]\n",
      "\n",
      "j = 2 > 1 = high\n",
      "                    The right is used up\n",
      "                                           U[k:high+1] is replaced by S[i:mid+1]\n",
      "                                           U[ 1 : 2 ]  is replaced by S[ 0 : 1 ]\n",
      "                                            [34]                       [123]\n",
      "    U = [34, 123, 189, 56, 150, 12, 9, 240]\n",
      "    S = [123, 34, 189, 56, 150, 12, 9, 240]\n",
      "                                           Put U into S\n",
      "    U = [34, 123, 189, 56, 150, 12, 9, 240]\n",
      "    S = [34, 123, 189, 56, 150, 12, 9, 240]\n",
      "mergesort2\n",
      "          low = 2 ; high = 3\n",
      "                             mid = 2\n",
      "mergesort2\n",
      "          low = 2 ; high = 2\n",
      "                             X\n",
      "mergesort2\n",
      "          low = 3 ; high = 3\n",
      "                             X\n",
      "merge2\n",
      "       low = 2 ; mid = 2 ; high = 3\n",
      "         i = 2 ;   j = 3 ;    k = 2\n",
      "                                           hard-copy  U = S[:]\n",
      "    U = [34, 123, 189, 56, 150, 12, 9, 240]\n",
      "    S = [34, 123, 189, 56, 150, 12, 9, 240]\n",
      "                                           S[ i ] >= S[ j ]\n",
      "                                           S[ 2 ] >= S[ 3 ]\n",
      "                                              189 >= 56\n",
      "                                           U[ k ] is replaced by S[ j ]\n",
      "                                           U[ 2 ] is replaced by S[ 3 ]\n",
      "    U = [34, 123, 56, 56, 150, 12, 9, 240]\n",
      "    S = [34, 123, 189, 56, 150, 12, 9, 240]\n",
      "\n",
      "j = 4 > 3 = high\n",
      "                    The right is used up\n",
      "                                           U[k:high+1] is replaced by S[i:mid+1]\n",
      "                                           U[ 3 : 4 ]  is replaced by S[ 2 : 3 ]\n",
      "                                            [56]                       [189]\n",
      "    U = [34, 123, 56, 189, 150, 12, 9, 240]\n",
      "    S = [34, 123, 189, 56, 150, 12, 9, 240]\n",
      "                                           Put U into S\n",
      "    U = [34, 123, 56, 189, 150, 12, 9, 240]\n",
      "    S = [34, 123, 56, 189, 150, 12, 9, 240]\n",
      "merge2\n",
      "       low = 0 ; mid = 1 ; high = 3\n",
      "         i = 0 ;   j = 2 ;    k = 0\n",
      "                                           hard-copy  U = S[:]\n",
      "    U = [34, 123, 56, 189, 150, 12, 9, 240]\n",
      "    S = [34, 123, 56, 189, 150, 12, 9, 240]\n",
      "                                           S[ i ] < S[ j ]\n",
      "                                           S[ 0 ] < S[ 2 ]\n",
      "                                              34 < 56\n",
      "                                           U[ k ] is replaced by S[ i ]\n",
      "                                           U[ 0 ] is replaced by S[ 0 ]\n",
      "    U = [34, 123, 56, 189, 150, 12, 9, 240]\n",
      "    S = [34, 123, 56, 189, 150, 12, 9, 240]\n",
      "                                           S[ i ] >= S[ j ]\n",
      "                                           S[ 1 ] >= S[ 2 ]\n",
      "                                              123 >= 56\n",
      "                                           U[ k ] is replaced by S[ j ]\n",
      "                                           U[ 1 ] is replaced by S[ 2 ]\n",
      "    U = [34, 56, 56, 189, 150, 12, 9, 240]\n",
      "    S = [34, 123, 56, 189, 150, 12, 9, 240]\n",
      "                                           S[ i ] < S[ j ]\n",
      "                                           S[ 1 ] < S[ 3 ]\n",
      "                                              123 < 189\n",
      "                                           U[ k ] is replaced by S[ i ]\n",
      "                                           U[ 2 ] is replaced by S[ 1 ]\n",
      "    U = [34, 56, 123, 189, 150, 12, 9, 240]\n",
      "    S = [34, 123, 56, 189, 150, 12, 9, 240]\n",
      "\n",
      "i = 2 > 1 = mid\n",
      "                    The left is used up\n",
      "                                           U[k:high+1] is replaced by S[j:high+1]\n",
      "                                           U[ 3 : 4 ]  is replaced by S[ 3 : 4 ]\n",
      "                                            [189]                       [189]\n",
      "    U = [34, 56, 123, 189, 150, 12, 9, 240]\n",
      "    S = [34, 123, 56, 189, 150, 12, 9, 240]\n",
      "                                           Put U into S\n",
      "    U = [34, 56, 123, 189, 150, 12, 9, 240]\n",
      "    S = [34, 56, 123, 189, 150, 12, 9, 240]\n",
      "mergesort2\n",
      "          low = 4 ; high = 7\n",
      "                             mid = 5\n",
      "mergesort2\n",
      "          low = 4 ; high = 5\n",
      "                             mid = 4\n",
      "mergesort2\n",
      "          low = 4 ; high = 4\n",
      "                             X\n",
      "mergesort2\n",
      "          low = 5 ; high = 5\n",
      "                             X\n",
      "merge2\n",
      "       low = 4 ; mid = 4 ; high = 5\n",
      "         i = 4 ;   j = 5 ;    k = 4\n",
      "                                           hard-copy  U = S[:]\n",
      "    U = [34, 56, 123, 189, 150, 12, 9, 240]\n",
      "    S = [34, 56, 123, 189, 150, 12, 9, 240]\n",
      "                                           S[ i ] >= S[ j ]\n",
      "                                           S[ 4 ] >= S[ 5 ]\n",
      "                                              150 >= 12\n",
      "                                           U[ k ] is replaced by S[ j ]\n",
      "                                           U[ 4 ] is replaced by S[ 5 ]\n",
      "    U = [34, 56, 123, 189, 12, 12, 9, 240]\n",
      "    S = [34, 56, 123, 189, 150, 12, 9, 240]\n",
      "\n",
      "j = 6 > 5 = high\n",
      "                    The right is used up\n",
      "                                           U[k:high+1] is replaced by S[i:mid+1]\n",
      "                                           U[ 5 : 6 ]  is replaced by S[ 4 : 5 ]\n",
      "                                            [12]                       [150]\n",
      "    U = [34, 56, 123, 189, 12, 150, 9, 240]\n",
      "    S = [34, 56, 123, 189, 150, 12, 9, 240]\n",
      "                                           Put U into S\n",
      "    U = [34, 56, 123, 189, 12, 150, 9, 240]\n",
      "    S = [34, 56, 123, 189, 12, 150, 9, 240]\n",
      "mergesort2\n",
      "          low = 6 ; high = 7\n",
      "                             mid = 6\n",
      "mergesort2\n",
      "          low = 6 ; high = 6\n",
      "                             X\n",
      "mergesort2\n",
      "          low = 7 ; high = 7\n",
      "                             X\n",
      "merge2\n",
      "       low = 6 ; mid = 6 ; high = 7\n",
      "         i = 6 ;   j = 7 ;    k = 6\n",
      "                                           hard-copy  U = S[:]\n",
      "    U = [34, 56, 123, 189, 12, 150, 9, 240]\n",
      "    S = [34, 56, 123, 189, 12, 150, 9, 240]\n",
      "                                           S[ i ] < S[ j ]\n",
      "                                           S[ 6 ] < S[ 7 ]\n",
      "                                              9 < 240\n",
      "                                           U[ k ] is replaced by S[ i ]\n",
      "                                           U[ 6 ] is replaced by S[ 6 ]\n",
      "    U = [34, 56, 123, 189, 12, 150, 9, 240]\n",
      "    S = [34, 56, 123, 189, 12, 150, 9, 240]\n",
      "\n",
      "i = 7 > 6 = mid\n",
      "                    The left is used up\n",
      "                                           U[k:high+1] is replaced by S[j:high+1]\n",
      "                                           U[ 7 : 8 ]  is replaced by S[ 7 : 8 ]\n",
      "                                            [240]                       [240]\n",
      "    U = [34, 56, 123, 189, 12, 150, 9, 240]\n",
      "    S = [34, 56, 123, 189, 12, 150, 9, 240]\n",
      "                                           Put U into S\n",
      "    U = [34, 56, 123, 189, 12, 150, 9, 240]\n",
      "    S = [34, 56, 123, 189, 12, 150, 9, 240]\n",
      "merge2\n",
      "       low = 4 ; mid = 5 ; high = 7\n",
      "         i = 4 ;   j = 6 ;    k = 4\n",
      "                                           hard-copy  U = S[:]\n",
      "    U = [34, 56, 123, 189, 12, 150, 9, 240]\n",
      "    S = [34, 56, 123, 189, 12, 150, 9, 240]\n",
      "                                           S[ i ] >= S[ j ]\n",
      "                                           S[ 4 ] >= S[ 6 ]\n",
      "                                              12 >= 9\n",
      "                                           U[ k ] is replaced by S[ j ]\n",
      "                                           U[ 4 ] is replaced by S[ 6 ]\n",
      "    U = [34, 56, 123, 189, 9, 150, 9, 240]\n",
      "    S = [34, 56, 123, 189, 12, 150, 9, 240]\n",
      "                                           S[ i ] < S[ j ]\n",
      "                                           S[ 4 ] < S[ 7 ]\n",
      "                                              12 < 240\n",
      "                                           U[ k ] is replaced by S[ i ]\n",
      "                                           U[ 5 ] is replaced by S[ 4 ]\n",
      "    U = [34, 56, 123, 189, 9, 12, 9, 240]\n",
      "    S = [34, 56, 123, 189, 12, 150, 9, 240]\n",
      "                                           S[ i ] < S[ j ]\n",
      "                                           S[ 5 ] < S[ 7 ]\n",
      "                                              150 < 240\n",
      "                                           U[ k ] is replaced by S[ i ]\n",
      "                                           U[ 6 ] is replaced by S[ 5 ]\n",
      "    U = [34, 56, 123, 189, 9, 12, 150, 240]\n",
      "    S = [34, 56, 123, 189, 12, 150, 9, 240]\n",
      "\n",
      "i = 6 > 5 = mid\n",
      "                    The left is used up\n",
      "                                           U[k:high+1] is replaced by S[j:high+1]\n",
      "                                           U[ 7 : 8 ]  is replaced by S[ 7 : 8 ]\n",
      "                                            [240]                       [240]\n",
      "    U = [34, 56, 123, 189, 9, 12, 150, 240]\n",
      "    S = [34, 56, 123, 189, 12, 150, 9, 240]\n",
      "                                           Put U into S\n",
      "    U = [34, 56, 123, 189, 9, 12, 150, 240]\n",
      "    S = [34, 56, 123, 189, 9, 12, 150, 240]\n",
      "merge2\n",
      "       low = 0 ; mid = 3 ; high = 7\n",
      "         i = 0 ;   j = 4 ;    k = 0\n",
      "                                           hard-copy  U = S[:]\n",
      "    U = [34, 56, 123, 189, 9, 12, 150, 240]\n",
      "    S = [34, 56, 123, 189, 9, 12, 150, 240]\n",
      "                                           S[ i ] >= S[ j ]\n",
      "                                           S[ 0 ] >= S[ 4 ]\n",
      "                                              34 >= 9\n",
      "                                           U[ k ] is replaced by S[ j ]\n",
      "                                           U[ 0 ] is replaced by S[ 4 ]\n",
      "    U = [9, 56, 123, 189, 9, 12, 150, 240]\n",
      "    S = [34, 56, 123, 189, 9, 12, 150, 240]\n",
      "                                           S[ i ] >= S[ j ]\n",
      "                                           S[ 0 ] >= S[ 5 ]\n",
      "                                              34 >= 12\n",
      "                                           U[ k ] is replaced by S[ j ]\n",
      "                                           U[ 1 ] is replaced by S[ 5 ]\n",
      "    U = [9, 12, 123, 189, 9, 12, 150, 240]\n",
      "    S = [34, 56, 123, 189, 9, 12, 150, 240]\n",
      "                                           S[ i ] < S[ j ]\n",
      "                                           S[ 0 ] < S[ 6 ]\n",
      "                                              34 < 150\n",
      "                                           U[ k ] is replaced by S[ i ]\n",
      "                                           U[ 2 ] is replaced by S[ 0 ]\n",
      "    U = [9, 12, 34, 189, 9, 12, 150, 240]\n",
      "    S = [34, 56, 123, 189, 9, 12, 150, 240]\n",
      "                                           S[ i ] < S[ j ]\n",
      "                                           S[ 1 ] < S[ 6 ]\n",
      "                                              56 < 150\n",
      "                                           U[ k ] is replaced by S[ i ]\n",
      "                                           U[ 3 ] is replaced by S[ 1 ]\n",
      "    U = [9, 12, 34, 56, 9, 12, 150, 240]\n",
      "    S = [34, 56, 123, 189, 9, 12, 150, 240]\n",
      "                                           S[ i ] < S[ j ]\n",
      "                                           S[ 2 ] < S[ 6 ]\n",
      "                                              123 < 150\n",
      "                                           U[ k ] is replaced by S[ i ]\n",
      "                                           U[ 4 ] is replaced by S[ 2 ]\n",
      "    U = [9, 12, 34, 56, 123, 12, 150, 240]\n",
      "    S = [34, 56, 123, 189, 9, 12, 150, 240]\n",
      "                                           S[ i ] >= S[ j ]\n",
      "                                           S[ 3 ] >= S[ 6 ]\n",
      "                                              189 >= 150\n",
      "                                           U[ k ] is replaced by S[ j ]\n",
      "                                           U[ 5 ] is replaced by S[ 6 ]\n",
      "    U = [9, 12, 34, 56, 123, 150, 150, 240]\n",
      "    S = [34, 56, 123, 189, 9, 12, 150, 240]\n",
      "                                           S[ i ] < S[ j ]\n",
      "                                           S[ 3 ] < S[ 7 ]\n",
      "                                              189 < 240\n",
      "                                           U[ k ] is replaced by S[ i ]\n",
      "                                           U[ 6 ] is replaced by S[ 3 ]\n",
      "    U = [9, 12, 34, 56, 123, 150, 189, 240]\n",
      "    S = [34, 56, 123, 189, 9, 12, 150, 240]\n",
      "\n",
      "i = 4 > 3 = mid\n",
      "                    The left is used up\n",
      "                                           U[k:high+1] is replaced by S[j:high+1]\n",
      "                                           U[ 7 : 8 ]  is replaced by S[ 7 : 8 ]\n",
      "                                            [240]                       [240]\n",
      "    U = [9, 12, 34, 56, 123, 150, 189, 240]\n",
      "    S = [34, 56, 123, 189, 9, 12, 150, 240]\n",
      "                                           Put U into S\n",
      "    U = [9, 12, 34, 56, 123, 150, 189, 240]\n",
      "    S = [9, 12, 34, 56, 123, 150, 189, 240]\n",
      "Output\n",
      "[9, 12, 34, 56, 123, 150, 189, 240]\n"
     ]
    }
   ],
   "source": [
    "\"\"\"\n",
    "Algorithm by Neapolitan\n",
    "ch 2-8\n",
    "step-by-step analysis\n",
    "\"\"\"\n",
    "#from copy import deepcopy\n",
    "\n",
    "def merge2(low, mid, high):\n",
    "    i = low  # for the left/small\n",
    "    j = mid + 1  # for the right/large   \n",
    "    k = low  # the index for U[] \n",
    "    print(\"merge2\")\n",
    "    print(\"      \", \"low =\", low, \"; mid =\", mid, \"; high =\", high)\n",
    "    print(\"      \", \"  i =\", i, \";   j =\", j, \";    k =\", k)\n",
    "    U = S[:]  # the temp list to hold the merged result\n",
    "    print(\"                                           hard-copy  U = S[:]\")\n",
    "    print(\"    U =\", U)\n",
    "    print(\"    S =\", S)\n",
    "    # I have think carefully. We don't need deepcopy. Linked-list is fine.\n",
    "    while i <= mid and j <= high:\n",
    "        if S[i] < S[j]:\n",
    "            print('                                           S[ i ] < S[ j ]')\n",
    "            print('                                           S[',i,'] < S[',j,']')\n",
    "            print('                                             ',S[i],'<',S[j])\n",
    "            print('                                           U[ k ] is replaced by S[ i ]')\n",
    "            print('                                           U[',k,'] is replaced by S[',i,']')\n",
    "            U[k] = S[i]\n",
    "            print(\"    U =\", U)\n",
    "            print(\"    S =\", S)\n",
    "            i += 1\n",
    "        else:\n",
    "            print('                                           S[ i ] >= S[ j ]')\n",
    "            print('                                           S[',i,'] >= S[',j,']')\n",
    "            print('                                             ',S[i],'>=',S[j])\n",
    "            print('                                           U[ k ] is replaced by S[ j ]')\n",
    "            print('                                           U[',k,'] is replaced by S[',j,']')\n",
    "            U[k] = S[j]\n",
    "            print(\"    U =\", U)\n",
    "            print(\"    S =\", S)\n",
    "            j += 1\n",
    "        k += 1\n",
    "    \n",
    "    # If one of the U[] or K[] is used up, we don't comparison anymore. \n",
    "    # Merge the residual to the sorted part directly\n",
    "    if i > mid:  # the left part is used up\n",
    "        print(\"\")\n",
    "        print('i =',i,'>',mid,'= mid')\n",
    "        print('                    The left is used up')\n",
    "        print(\"                                           U[k:high+1] is replaced by S[j:high+1]\")\n",
    "        print('                                           U[',k,':',high+1,']  is replaced by S[',j,':',high+1,']')\n",
    "        print('                                           ',U[k:high+1],'                     ',S[j:high+1])\n",
    "        U[k:high+1] = S[j:high+1]  # Connect the right part onto the tail of U[]\n",
    "        print(\"    U =\", U)\n",
    "        print(\"    S =\", S)\n",
    "    else:  # the right part is used up\n",
    "        print(\"\")\n",
    "        print('j =',j,'>',high,'= high')\n",
    "        print('                    The right is used up')\n",
    "        print(\"                                           U[k:high+1] is replaced by S[i:mid+1]\")\n",
    "        print('                                           U[',k,':',high+1,']  is replaced by S[',i,':',mid+1,']')\n",
    "        print('                                           ',U[k:high+1],'                     ',S[i:mid+1])\n",
    "        U[k:high+1] = S[i:mid+1]\n",
    "        print(\"    U =\", U)\n",
    "        print(\"    S =\", S)\n",
    "\n",
    "    S[low:high+1] = U[low:high+1]  # overwirte the yet-merged S[] with the merged U[]\n",
    "    print(\"                                           Put U into S\")\n",
    "    print(\"    U =\", U)\n",
    "    print(\"    S =\", S)\n",
    "\n",
    "def mergesort2(low, high):\n",
    "    print(\"mergesort2\")\n",
    "    print(\"          low =\",low, \"; high =\",high)\n",
    "    if high > low:\n",
    "        mid  = (low + high) // 2  # ===floor( (low + high) // 2 )\n",
    "        print(\"                             mid =\",mid)\n",
    "        mergesort2(low, mid)\n",
    "        mergesort2(mid + 1, high)\n",
    "        merge2(low, mid, high)\n",
    "    else:\n",
    "        print(\"                             X\")\n",
    "\n",
    "global S\n",
    "S = [123, 34, 189, 56, 150, 12, 9, 240]\n",
    "print(\"Input\")\n",
    "print(S)\n",
    "mergesort2(0,len(S)-1) \n",
    "print(\"Output\")\n",
    "print(S)"
   ]
  },
  {
   "cell_type": "code",
   "execution_count": 28,
   "metadata": {},
   "outputs": [],
   "source": [
    "#include <iostream>"
   ]
  },
  {
   "cell_type": "code",
   "execution_count": 41,
   "metadata": {},
   "outputs": [
    {
     "ename": "SyntaxError",
     "evalue": "invalid syntax (<ipython-input-41-b4585a47adde>, line 6)",
     "output_type": "error",
     "traceback": [
      "\u001b[1;36m  File \u001b[1;32m\"<ipython-input-41-b4585a47adde>\"\u001b[1;36m, line \u001b[1;32m6\u001b[0m\n\u001b[1;33m    for (i = low + 1; i <= high; i++)\u001b[0m\n\u001b[1;37m           ^\u001b[0m\n\u001b[1;31mSyntaxError\u001b[0m\u001b[1;31m:\u001b[0m invalid syntax\n"
     ]
    }
   ],
   "source": [
    "def partition(S, low, high, pivotpoint):\n",
    "    i, j, pivotitem, temp; \n",
    "    \n",
    "    j = low;\n",
    "    pivotitem = S[low];\n",
    "    for (i = low + 1; i <= high; i++)\n",
    "    {\n",
    "        if (S[i] < pivotitem)\n",
    "        \n",
    "            j++;\n",
    "            temp = S[i]; S[i] = S[j]; S[j] = temp;\n",
    "        \n",
    "    }\n",
    "    pivotpoint = j;\n",
    "    temp = S[low]; S[low] = S[pivotpoint]; S[pivotpoint] = temp;\n",
    "\n",
    "def quicksort(S, low, high):\n",
    "    pivotpoint = low;\n",
    "\n",
    "    if (high > low)\n",
    "    \n",
    "        partition(S, low, high, pivotpoint);\n",
    "        quicksort(S, low, pivotpoint - 1);\n",
    "        quicksort(S, pivotpoint + 1, high);\n",
    "    \n",
    "\n",
    "\n",
    "int S[] = {123, 34, 189, 56, 150, 12, 9, 240};\n",
    "int size = sizeof(S) / sizeof(S[0]);\n",
    "printf(\"\\nThe size is %d\\n\\n\", size);\n",
    "int i; \n",
    "for (i = 0; i < size; i++)\n",
    "    printf(\"%d, \",S[i]);\n",
    "printf(\"\\n\\n\");\n",
    "\n",
    "quicksort(S, 0, size-1); \n",
    "\n",
    "for (i = 0; i < size; i++)\n",
    "    printf(\"%d, \",S[i]);\n",
    "printf(\"\\n\");\n"
   ]
  },
  {
   "cell_type": "code",
   "execution_count": 30,
   "metadata": {},
   "outputs": [],
   "source": [
    "import random\n",
    "# Generate a list \n",
    "S = []\n",
    "for i in range(4, 100):                            # set the size of input as N\n",
    "    S.append(random.random())\n",
    "# Sum the sublists of length-3\n",
    "S3 = []\n",
    "initial_index_list = [] \n",
    "for i in range(0,len(S) - 2):\n",
    "    S3.append(S[i] +  S[i + 1] + S[i + 2])             # adding for 2N times (for two add symbols)\n",
    "    initial_index_list.append(i)\n",
    "# find my max\n",
    "def mymax(S3, index_list):                             # being called lg(N) times\n",
    "    print(index_list)\n",
    "    if len(index_list) > 1:                                ## judging for 1 time in each call\n",
    "        new_index_list = []\n",
    "        for i in range(0, len(index_list) - 1, 2):\n",
    "            print(i)\n",
    "            if S3[index_list[i]] > S3[index_list[i+1]]:    ## judging for len/2 times in each call\n",
    "                new_index_list.append(index_list[i])\n",
    "            else:\n",
    "                new_index_list.append(index_list[i + 1])   ## judging for 1 time in each call\n",
    "        # collect the unpaired  \n",
    "        if len(index_list) % 2: \n",
    "            new_index_list.append(index_list[-1])\n",
    "        \n",
    "        return mymax(S3, new_index_list)\n",
    "    else:\n",
    "        return S3[index_list[0]]"
   ]
  },
  {
   "cell_type": "code",
   "execution_count": 31,
   "metadata": {},
   "outputs": [
    {
     "name": "stdout",
     "output_type": "stream",
     "text": [
      "[0, 1, 2, 3, 4, 5, 6, 7, 8, 9, 10, 11, 12, 13, 14, 15, 16, 17, 18, 19, 20, 21, 22, 23, 24, 25, 26, 27, 28, 29, 30, 31, 32, 33, 34, 35, 36, 37, 38, 39, 40, 41, 42, 43, 44, 45, 46, 47, 48, 49, 50, 51, 52, 53, 54, 55, 56, 57, 58, 59, 60, 61, 62, 63, 64, 65, 66, 67, 68, 69, 70, 71, 72, 73, 74, 75, 76, 77, 78, 79, 80, 81, 82, 83, 84, 85, 86, 87, 88, 89, 90, 91, 92, 93]\n",
      "0\n",
      "2\n",
      "4\n",
      "6\n",
      "8\n",
      "10\n",
      "12\n",
      "14\n",
      "16\n",
      "18\n",
      "20\n",
      "22\n",
      "24\n",
      "26\n",
      "28\n",
      "30\n",
      "32\n",
      "34\n",
      "36\n",
      "38\n",
      "40\n",
      "42\n",
      "44\n",
      "46\n",
      "48\n",
      "50\n",
      "52\n",
      "54\n",
      "56\n",
      "58\n",
      "60\n",
      "62\n",
      "64\n",
      "66\n",
      "68\n",
      "70\n",
      "72\n",
      "74\n",
      "76\n",
      "78\n",
      "80\n",
      "82\n",
      "84\n",
      "86\n",
      "88\n",
      "90\n",
      "92\n",
      "[1, 2, 5, 7, 8, 10, 13, 15, 16, 18, 21, 22, 24, 26, 28, 30, 32, 34, 36, 38, 41, 42, 45, 47, 48, 50, 52, 54, 57, 58, 61, 62, 64, 67, 69, 71, 73, 74, 76, 78, 81, 83, 85, 86, 88, 91, 92]\n",
      "0\n",
      "2\n",
      "4\n",
      "6\n",
      "8\n",
      "10\n",
      "12\n",
      "14\n",
      "16\n",
      "18\n",
      "20\n",
      "22\n",
      "24\n",
      "26\n",
      "28\n",
      "30\n",
      "32\n",
      "34\n",
      "36\n",
      "38\n",
      "40\n",
      "42\n",
      "44\n",
      "[1, 7, 8, 15, 16, 22, 26, 28, 34, 36, 41, 47, 50, 52, 57, 62, 64, 71, 74, 76, 81, 85, 91, 92]\n",
      "0\n",
      "2\n",
      "4\n",
      "6\n",
      "8\n",
      "10\n",
      "12\n",
      "14\n",
      "16\n",
      "18\n",
      "20\n",
      "22\n",
      "[7, 8, 22, 26, 36, 41, 52, 62, 71, 76, 85, 92]\n",
      "0\n",
      "2\n",
      "4\n",
      "6\n",
      "8\n",
      "10\n",
      "[7, 22, 36, 62, 76, 92]\n",
      "0\n",
      "2\n",
      "4\n",
      "[22, 62, 92]\n",
      "0\n",
      "[62, 92]\n",
      "0\n",
      "[92]\n",
      "0.0\n"
     ]
    }
   ],
   "source": [
    "# compare with Python's max\n",
    "print(mymax(S3, initial_index_list) - max(S3))"
   ]
  },
  {
   "cell_type": "code",
   "execution_count": 32,
   "metadata": {},
   "outputs": [
    {
     "name": "stdout",
     "output_type": "stream",
     "text": [
      "1\n",
      "4\n",
      "9\n",
      "16\n",
      "25\n",
      "36\n",
      "49\n",
      "64\n",
      "81\n",
      "100\n"
     ]
    }
   ],
   "source": [
    "def t(n):\n",
    "    if n == 1:\n",
    "        return 1\n",
    "    else:\n",
    "        return t(n-1) + 2 * n - 1\n",
    "        \n",
    "for i in range(1, 11):\n",
    "    print(t(i))"
   ]
  },
  {
   "cell_type": "code",
   "execution_count": 34,
   "metadata": {
    "scrolled": true
   },
   "outputs": [
    {
     "name": "stdout",
     "output_type": "stream",
     "text": [
      "0\n",
      "1\n",
      "48\n",
      "571\n",
      "4964\n",
      "38201\n",
      "0\n",
      "1\n",
      "48\n",
      "571\n",
      "4964\n",
      "38201\n"
     ]
    },
    {
     "ename": "NameError",
     "evalue": "name 'coeff' is not defined",
     "output_type": "error",
     "traceback": [
      "\u001b[1;31m---------------------------------------------------------------------------\u001b[0m",
      "\u001b[1;31mNameError\u001b[0m                                 Traceback (most recent call last)",
      "\u001b[1;32m<ipython-input-34-2fdd000b5e0d>\u001b[0m in \u001b[0;36m<module>\u001b[1;34m\u001b[0m\n\u001b[0;32m     22\u001b[0m \u001b[1;31m# matrix of coeff\u001b[0m\u001b[1;33m\u001b[0m\u001b[1;33m\u001b[0m\u001b[1;33m\u001b[0m\u001b[0m\n\u001b[0;32m     23\u001b[0m a = np.array(\n\u001b[1;32m---> 24\u001b[1;33m     [   coeff(0),\n\u001b[0m\u001b[0;32m     25\u001b[0m         \u001b[0mcoeff\u001b[0m\u001b[1;33m(\u001b[0m\u001b[1;36m1\u001b[0m\u001b[1;33m)\u001b[0m\u001b[1;33m,\u001b[0m\u001b[1;33m\u001b[0m\u001b[1;33m\u001b[0m\u001b[0m\n\u001b[0;32m     26\u001b[0m         \u001b[0mcoeff\u001b[0m\u001b[1;33m(\u001b[0m\u001b[1;36m2\u001b[0m\u001b[1;33m)\u001b[0m\u001b[1;33m,\u001b[0m\u001b[1;33m\u001b[0m\u001b[1;33m\u001b[0m\u001b[0m\n",
      "\u001b[1;31mNameError\u001b[0m: name 'coeff' is not defined"
     ]
    }
   ],
   "source": [
    "#use numpy.linalg.solve(a,b) to solve the above system of linear equations.\n",
    "import numpy as np\n",
    "# the recursion  relationship\n",
    "def t(n):\n",
    "    if n == 1:   return 1\n",
    "    elif n == 0: return 0\n",
    "    else:        return (\n",
    "        5*t(n-1) - 6*t(n-2) + n**2-5*n+7**n )\n",
    "# the function to generate const\n",
    "def coeff_list(n):\n",
    "    return [2**n,3**n,7**n,1,n,n**2]  # return a list\n",
    "# the coeff to solve C1~C6\n",
    "coeff_list_list = []\n",
    "for i in range(0, 6): \n",
    "    print(t(i))\n",
    "    coeff_list_list.append(t(i))\n",
    "# the const of the six equation\n",
    "const_list = []\n",
    "for i in range(0, 6): \n",
    "    print(t(i))\n",
    "    const_list.append(t(i))\n",
    "# matrix of coeff\n",
    "a = np.array(\n",
    "    [   coeff(0),\n",
    "        coeff(1),\n",
    "        coeff(2),\n",
    "        coeff(3),\n",
    "        coeff(4),\n",
    "        coeff(5)    ])\n",
    "# column vector of const\n",
    "b = np.array(const_list)\n",
    "# solve the system of linear equations\n",
    "c_n = np.linalg.solve(a,b)\n",
    "print(c_n)"
   ]
  },
  {
   "cell_type": "code",
   "execution_count": null,
   "metadata": {},
   "outputs": [],
   "source": []
  },
  {
   "cell_type": "code",
   "execution_count": 1,
   "metadata": {},
   "outputs": [],
   "source": [
    "#2023/12/1\n",
    "import numpy as np"
   ]
  },
  {
   "cell_type": "code",
   "execution_count": 2,
   "metadata": {},
   "outputs": [
    {
     "data": {
      "text/plain": [
       "10"
      ]
     },
     "execution_count": 2,
     "metadata": {},
     "output_type": "execute_result"
    }
   ],
   "source": [
    "a = [1, 2]\n",
    "b = [4, 3]\n",
    "np.dot(a,b)"
   ]
  },
  {
   "cell_type": "code",
   "execution_count": 4,
   "metadata": {},
   "outputs": [
    {
     "data": {
      "text/plain": [
       "10"
      ]
     },
     "execution_count": 4,
     "metadata": {},
     "output_type": "execute_result"
    }
   ],
   "source": [
    "a = np.array([1, 2])\n",
    "b = np.array([4, 3])\n",
    "np.dot(a,b)"
   ]
  },
  {
   "cell_type": "code",
   "execution_count": 5,
   "metadata": {},
   "outputs": [
    {
     "data": {
      "text/plain": [
       "array([5, 5])"
      ]
     },
     "execution_count": 5,
     "metadata": {},
     "output_type": "execute_result"
    }
   ],
   "source": [
    "a+b"
   ]
  },
  {
   "cell_type": "code",
   "execution_count": 6,
   "metadata": {},
   "outputs": [
    {
     "data": {
      "text/plain": [
       "array([4, 6])"
      ]
     },
     "execution_count": 6,
     "metadata": {},
     "output_type": "execute_result"
    }
   ],
   "source": [
    "a*b"
   ]
  },
  {
   "cell_type": "code",
   "execution_count": 7,
   "metadata": {},
   "outputs": [
    {
     "data": {
      "text/plain": [
       "[1, 2, 4, 3]"
      ]
     },
     "execution_count": 7,
     "metadata": {},
     "output_type": "execute_result"
    }
   ],
   "source": [
    "[1, 2] + [4, 3]"
   ]
  },
  {
   "cell_type": "code",
   "execution_count": 8,
   "metadata": {},
   "outputs": [
    {
     "data": {
      "text/plain": [
       "10"
      ]
     },
     "execution_count": 8,
     "metadata": {},
     "output_type": "execute_result"
    }
   ],
   "source": [
    "#  a@b 等於 np.dot(a,b)\n",
    "a@b"
   ]
  },
  {
   "cell_type": "code",
   "execution_count": null,
   "metadata": {},
   "outputs": [],
   "source": []
  }
 ],
 "metadata": {
  "kernelspec": {
   "display_name": "Python 3",
   "language": "python",
   "name": "python3"
  },
  "language_info": {
   "codemirror_mode": {
    "name": "ipython",
    "version": 3
   },
   "file_extension": ".py",
   "mimetype": "text/x-python",
   "name": "python",
   "nbconvert_exporter": "python",
   "pygments_lexer": "ipython3",
   "version": "3.8.3"
  }
 },
 "nbformat": 4,
 "nbformat_minor": 4
}
