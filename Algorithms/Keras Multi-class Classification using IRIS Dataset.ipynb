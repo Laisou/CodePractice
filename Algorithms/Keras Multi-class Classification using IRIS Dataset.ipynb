{
 "cells": [
  {
   "cell_type": "markdown",
   "id": "3f3d13ce",
   "metadata": {},
   "source": [
    "Keras Multi-class Classification using IRIS Dataset\n",
    "\n",
    "code come from\n",
    "https://vitalflux.com/keras-multi-class-classification-using-iris-dataset/"
   ]
  },
  {
   "cell_type": "code",
   "execution_count": 1,
   "id": "69cef69f",
   "metadata": {},
   "outputs": [],
   "source": [
    "import numpy as np\n",
    "from sklearn import datasets\n",
    "from sklearn.model_selection import train_test_split"
   ]
  },
  {
   "cell_type": "code",
   "execution_count": 2,
   "id": "f161ef9e",
   "metadata": {},
   "outputs": [
    {
     "name": "stdout",
     "output_type": "stream",
     "text": [
      "WARNING:tensorflow:From C:\\ProgramData\\anaconda3\\Lib\\site-packages\\keras\\src\\losses.py:2976: The name tf.losses.sparse_softmax_cross_entropy is deprecated. Please use tf.compat.v1.losses.sparse_softmax_cross_entropy instead.\n",
      "\n"
     ]
    }
   ],
   "source": [
    "#\n",
    "# Import Keras modules\n",
    "#\n",
    "from keras import models\n",
    "from keras import layers\n",
    "from keras.utils import to_categorical"
   ]
  },
  {
   "cell_type": "code",
   "execution_count": 3,
   "id": "132cc348",
   "metadata": {},
   "outputs": [
    {
     "name": "stdout",
     "output_type": "stream",
     "text": [
      "WARNING:tensorflow:From C:\\ProgramData\\anaconda3\\Lib\\site-packages\\keras\\src\\backend.py:873: The name tf.get_default_graph is deprecated. Please use tf.compat.v1.get_default_graph instead.\n",
      "\n"
     ]
    }
   ],
   "source": [
    "#\n",
    "# Create the network\n",
    "#\n",
    "network = models.Sequential()\n",
    "network.add(layers.Dense(512, activation='relu', input_shape=(4,)))\n",
    "network.add(layers.Dense(3, activation='softmax'))"
   ]
  },
  {
   "cell_type": "code",
   "execution_count": 4,
   "id": "33b2d4c3",
   "metadata": {},
   "outputs": [
    {
     "name": "stdout",
     "output_type": "stream",
     "text": [
      "WARNING:tensorflow:From C:\\ProgramData\\anaconda3\\Lib\\site-packages\\keras\\src\\optimizers\\__init__.py:309: The name tf.train.Optimizer is deprecated. Please use tf.compat.v1.train.Optimizer instead.\n",
      "\n"
     ]
    }
   ],
   "source": [
    "#\n",
    "# Compile the network\n",
    "#\n",
    "network.compile(optimizer='rmsprop',\n",
    "                loss='categorical_crossentropy',\n",
    "                metrics=['accuracy'])"
   ]
  },
  {
   "cell_type": "code",
   "execution_count": 5,
   "id": "125a01fe",
   "metadata": {},
   "outputs": [],
   "source": [
    "#\n",
    "# Load the iris dataset\n",
    "#\n",
    "iris = datasets.load_iris()\n",
    "X = iris.data\n",
    "y = iris.target"
   ]
  },
  {
   "cell_type": "code",
   "execution_count": 6,
   "id": "082d03d9",
   "metadata": {},
   "outputs": [],
   "source": [
    "#\n",
    "# Create training and test split\n",
    "#\n",
    "X_train, X_test, y_train, y_test = train_test_split(X, y, test_size=0.3, stratify=y, random_state=42)"
   ]
  },
  {
   "cell_type": "code",
   "execution_count": 7,
   "id": "66501946",
   "metadata": {},
   "outputs": [],
   "source": [
    "#\n",
    "# Create categorical labels\n",
    "#\n",
    "train_labels = to_categorical(y_train)\n",
    "test_labels = to_categorical(y_test)"
   ]
  },
  {
   "cell_type": "code",
   "execution_count": 8,
   "id": "4f14b9d2",
   "metadata": {},
   "outputs": [
    {
     "name": "stdout",
     "output_type": "stream",
     "text": [
      "Epoch 1/20\n",
      "WARNING:tensorflow:From C:\\ProgramData\\anaconda3\\Lib\\site-packages\\keras\\src\\utils\\tf_utils.py:492: The name tf.ragged.RaggedTensorValue is deprecated. Please use tf.compat.v1.ragged.RaggedTensorValue instead.\n",
      "\n",
      "WARNING:tensorflow:From C:\\ProgramData\\anaconda3\\Lib\\site-packages\\keras\\src\\engine\\base_layer_utils.py:384: The name tf.executing_eagerly_outside_functions is deprecated. Please use tf.compat.v1.executing_eagerly_outside_functions instead.\n",
      "\n",
      "3/3 [==============================] - 1s 6ms/step - loss: 1.1579 - accuracy: 0.2095\n",
      "Epoch 2/20\n",
      "3/3 [==============================] - 0s 4ms/step - loss: 0.9387 - accuracy: 0.6952\n",
      "Epoch 3/20\n",
      "3/3 [==============================] - 0s 3ms/step - loss: 0.8400 - accuracy: 0.7333\n",
      "Epoch 4/20\n",
      "3/3 [==============================] - 0s 4ms/step - loss: 0.7665 - accuracy: 0.7714\n",
      "Epoch 5/20\n",
      "3/3 [==============================] - 0s 4ms/step - loss: 0.7419 - accuracy: 0.8571\n",
      "Epoch 6/20\n",
      "3/3 [==============================] - 0s 3ms/step - loss: 0.6971 - accuracy: 0.8000\n",
      "Epoch 7/20\n",
      "3/3 [==============================] - 0s 3ms/step - loss: 0.6449 - accuracy: 0.8476\n",
      "Epoch 8/20\n",
      "3/3 [==============================] - 0s 3ms/step - loss: 0.6048 - accuracy: 0.7524\n",
      "Epoch 9/20\n",
      "3/3 [==============================] - 0s 4ms/step - loss: 0.5801 - accuracy: 0.8857\n",
      "Epoch 10/20\n",
      "3/3 [==============================] - 0s 4ms/step - loss: 0.5486 - accuracy: 0.7619\n",
      "Epoch 11/20\n",
      "3/3 [==============================] - 0s 3ms/step - loss: 0.5343 - accuracy: 0.8286\n",
      "Epoch 12/20\n",
      "3/3 [==============================] - 0s 2ms/step - loss: 0.5236 - accuracy: 0.8000\n",
      "Epoch 13/20\n",
      "3/3 [==============================] - 0s 3ms/step - loss: 0.4890 - accuracy: 0.9429\n",
      "Epoch 14/20\n",
      "3/3 [==============================] - 0s 3ms/step - loss: 0.4757 - accuracy: 0.7333\n",
      "Epoch 15/20\n",
      "3/3 [==============================] - 0s 2ms/step - loss: 0.4583 - accuracy: 0.9048\n",
      "Epoch 16/20\n",
      "3/3 [==============================] - 0s 3ms/step - loss: 0.4479 - accuracy: 0.8857\n",
      "Epoch 17/20\n",
      "3/3 [==============================] - 0s 3ms/step - loss: 0.4450 - accuracy: 0.8381\n",
      "Epoch 18/20\n",
      "3/3 [==============================] - 0s 3ms/step - loss: 0.4082 - accuracy: 0.9524\n",
      "Epoch 19/20\n",
      "3/3 [==============================] - 0s 2ms/step - loss: 0.3943 - accuracy: 0.9619\n",
      "Epoch 20/20\n",
      "3/3 [==============================] - 0s 3ms/step - loss: 0.4153 - accuracy: 0.8286\n"
     ]
    },
    {
     "data": {
      "text/plain": [
       "<keras.src.callbacks.History at 0x1b666087f90>"
      ]
     },
     "execution_count": 8,
     "metadata": {},
     "output_type": "execute_result"
    }
   ],
   "source": [
    "#\n",
    "# Fit the neural network\n",
    "#\n",
    "network.fit(X_train, train_labels, epochs=20, batch_size=40)"
   ]
  },
  {
   "cell_type": "code",
   "execution_count": 9,
   "id": "b5e67e13",
   "metadata": {},
   "outputs": [
    {
     "name": "stdout",
     "output_type": "stream",
     "text": [
      "2/2 [==============================] - 0s 4ms/step - loss: 0.4006 - accuracy: 0.8222\n"
     ]
    }
   ],
   "source": [
    "#\n",
    "# Get the accuracy of test data set\n",
    "#\n",
    "test_loss, test_acc = network.evaluate(X_test, test_labels)"
   ]
  },
  {
   "cell_type": "code",
   "execution_count": 10,
   "id": "ad347431",
   "metadata": {},
   "outputs": [
    {
     "name": "stdout",
     "output_type": "stream",
     "text": [
      "Test Accuracy:  0.8222222328186035 \n",
      "Test Loss:  0.4006471335887909\n"
     ]
    }
   ],
   "source": [
    "#\n",
    "# Print the test accuracy\n",
    "#\n",
    "print('Test Accuracy: ', test_acc, '\\nTest Loss: ', test_loss)"
   ]
  }
 ],
 "metadata": {
  "kernelspec": {
   "display_name": "Python 3 (ipykernel)",
   "language": "python",
   "name": "python3"
  },
  "language_info": {
   "codemirror_mode": {
    "name": "ipython",
    "version": 3
   },
   "file_extension": ".py",
   "mimetype": "text/x-python",
   "name": "python",
   "nbconvert_exporter": "python",
   "pygments_lexer": "ipython3",
   "version": "3.11.5"
  }
 },
 "nbformat": 4,
 "nbformat_minor": 5
}
